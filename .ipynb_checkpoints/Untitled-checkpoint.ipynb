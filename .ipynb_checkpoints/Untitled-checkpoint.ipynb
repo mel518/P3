{
 "cells": [
  {
   "cell_type": "code",
   "execution_count": 60,
   "id": "e259fcc6",
   "metadata": {},
   "outputs": [],
   "source": [
    "from pymongo import MongoClient\n",
    "import pandas as pd\n",
    "import json\n",
    "import os"
   ]
  },
  {
   "cell_type": "code",
   "execution_count": 61,
   "id": "14bf6521",
   "metadata": {},
   "outputs": [],
   "source": [
    "client = MongoClient()\n",
    "db = client.project3\n",
    "wineryCoords = db.coordinates2.find()\n",
    "list_cur1 = list(wineryCoords)\n",
    "coords = pd.DataFrame(data = list_cur1)\n",
    "wineInfo = db.wines.find(\"country\" == \"US\")\n",
    "list_cur2 = list(wineInfo)\n",
    "info = pd.DataFrame(data = list_cur2) \n",
    "info[\"address\"] = info[\"winery\"] + \",\" + \" \" + info[\"region_1\"]\n",
    "merged = info.merge(coords, on = \"address\")\n",
    "merged['points'] = merged['points'].astype(int)\n",
    "merged.drop(labels = [\"taster_name\", \"taster_twitter_handle\", \"region_2\"], axis = 1, inplace = True)\n",
    "x = merged.groupby(\"address\").mean().round(2)"
   ]
  },
  {
   "cell_type": "code",
   "execution_count": 63,
   "id": "f675701c",
   "metadata": {},
   "outputs": [
    {
     "data": {
      "text/html": [
       "<div>\n",
       "<style scoped>\n",
       "    .dataframe tbody tr th:only-of-type {\n",
       "        vertical-align: middle;\n",
       "    }\n",
       "\n",
       "    .dataframe tbody tr th {\n",
       "        vertical-align: top;\n",
       "    }\n",
       "\n",
       "    .dataframe thead th {\n",
       "        text-align: right;\n",
       "    }\n",
       "</style>\n",
       "<table border=\"1\" class=\"dataframe\">\n",
       "  <thead>\n",
       "    <tr style=\"text-align: right;\">\n",
       "      <th></th>\n",
       "      <th>points</th>\n",
       "      <th>price</th>\n",
       "      <th>longitude</th>\n",
       "      <th>latitute</th>\n",
       "    </tr>\n",
       "    <tr>\n",
       "      <th>address</th>\n",
       "      <th></th>\n",
       "      <th></th>\n",
       "      <th></th>\n",
       "      <th></th>\n",
       "    </tr>\n",
       "  </thead>\n",
       "  <tbody>\n",
       "    <tr>\n",
       "      <th>2Plank, Amador County</th>\n",
       "      <td>88.00</td>\n",
       "      <td>42.00</td>\n",
       "      <td>-120.77</td>\n",
       "      <td>38.35</td>\n",
       "    </tr>\n",
       "    <tr>\n",
       "      <th>Acrobat, Oregon</th>\n",
       "      <td>88.00</td>\n",
       "      <td>15.64</td>\n",
       "      <td>-120.55</td>\n",
       "      <td>43.80</td>\n",
       "    </tr>\n",
       "    <tr>\n",
       "      <th>Adelsheim, Dundee Hills</th>\n",
       "      <td>92.75</td>\n",
       "      <td>102.50</td>\n",
       "      <td>-123.05</td>\n",
       "      <td>45.34</td>\n",
       "    </tr>\n",
       "    <tr>\n",
       "      <th>Albatross Ridge, Carmel Valley</th>\n",
       "      <td>92.71</td>\n",
       "      <td>52.86</td>\n",
       "      <td>-121.73</td>\n",
       "      <td>36.48</td>\n",
       "    </tr>\n",
       "    <tr>\n",
       "      <th>Alleromb, Columbia Valley (WA)</th>\n",
       "      <td>90.62</td>\n",
       "      <td>62.77</td>\n",
       "      <td>-118.37</td>\n",
       "      <td>46.06</td>\n",
       "    </tr>\n",
       "    <tr>\n",
       "      <th>...</th>\n",
       "      <td>...</td>\n",
       "      <td>...</td>\n",
       "      <td>...</td>\n",
       "      <td>...</td>\n",
       "    </tr>\n",
       "    <tr>\n",
       "      <th>Wölffer, Long Island</th>\n",
       "      <td>88.65</td>\n",
       "      <td>27.84</td>\n",
       "      <td>-72.28</td>\n",
       "      <td>40.95</td>\n",
       "    </tr>\n",
       "    <tr>\n",
       "      <th>Y Rousseau, Mount Veeder</th>\n",
       "      <td>89.27</td>\n",
       "      <td>57.18</td>\n",
       "      <td>-122.45</td>\n",
       "      <td>38.38</td>\n",
       "    </tr>\n",
       "    <tr>\n",
       "      <th>Yardstick, Napa Valley</th>\n",
       "      <td>87.67</td>\n",
       "      <td>26.67</td>\n",
       "      <td>-122.27</td>\n",
       "      <td>38.50</td>\n",
       "    </tr>\n",
       "    <tr>\n",
       "      <th>Z'IVO, Eola-Amity Hills</th>\n",
       "      <td>87.50</td>\n",
       "      <td>35.00</td>\n",
       "      <td>-123.12</td>\n",
       "      <td>45.13</td>\n",
       "    </tr>\n",
       "    <tr>\n",
       "      <th>Zerba Cellars, Walla Walla Valley (WA)</th>\n",
       "      <td>86.20</td>\n",
       "      <td>29.60</td>\n",
       "      <td>-118.39</td>\n",
       "      <td>46.00</td>\n",
       "    </tr>\n",
       "  </tbody>\n",
       "</table>\n",
       "<p>333 rows × 4 columns</p>\n",
       "</div>"
      ],
      "text/plain": [
       "                                        points   price  longitude  latitute\n",
       "address                                                                    \n",
       "2Plank, Amador County                    88.00   42.00    -120.77     38.35\n",
       "Acrobat, Oregon                          88.00   15.64    -120.55     43.80\n",
       "Adelsheim, Dundee Hills                  92.75  102.50    -123.05     45.34\n",
       "Albatross Ridge, Carmel Valley           92.71   52.86    -121.73     36.48\n",
       "Alleromb, Columbia Valley (WA)           90.62   62.77    -118.37     46.06\n",
       "...                                        ...     ...        ...       ...\n",
       "Wölffer, Long Island                     88.65   27.84     -72.28     40.95\n",
       "Y Rousseau, Mount Veeder                 89.27   57.18    -122.45     38.38\n",
       "Yardstick, Napa Valley                   87.67   26.67    -122.27     38.50\n",
       "Z'IVO, Eola-Amity Hills                  87.50   35.00    -123.12     45.13\n",
       "Zerba Cellars, Walla Walla Valley (WA)   86.20   29.60    -118.39     46.00\n",
       "\n",
       "[333 rows x 4 columns]"
      ]
     },
     "execution_count": 63,
     "metadata": {},
     "output_type": "execute_result"
    }
   ],
   "source": [
    "x"
   ]
  },
  {
   "cell_type": "code",
   "execution_count": 65,
   "id": "c60f2394",
   "metadata": {},
   "outputs": [
    {
     "data": {
      "text/plain": [
       "<pymongo.results.InsertOneResult at 0x7ff730e29970>"
      ]
     },
     "execution_count": 65,
     "metadata": {},
     "output_type": "execute_result"
    }
   ],
   "source": [
    "y = x.to_dict()\n",
    "new = db.merged.insert_one(y)"
   ]
  },
  {
   "cell_type": "code",
   "execution_count": null,
   "id": "a0c78d7f",
   "metadata": {},
   "outputs": [],
   "source": [
    "y = x.to_dict()\n",
    "new = db.merged2.insert_one(y.to_json)"
   ]
  }
 ],
 "metadata": {
  "kernelspec": {
   "display_name": "Python 3 (ipykernel)",
   "language": "python",
   "name": "python3"
  },
  "language_info": {
   "codemirror_mode": {
    "name": "ipython",
    "version": 3
   },
   "file_extension": ".py",
   "mimetype": "text/x-python",
   "name": "python",
   "nbconvert_exporter": "python",
   "pygments_lexer": "ipython3",
   "version": "3.9.7"
  }
 },
 "nbformat": 4,
 "nbformat_minor": 5
}
